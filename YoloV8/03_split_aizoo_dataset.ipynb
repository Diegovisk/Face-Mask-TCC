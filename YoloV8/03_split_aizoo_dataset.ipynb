{
 "cells": [
  {
   "cell_type": "code",
   "execution_count": 1,
   "id": "bb399f9c",
   "metadata": {},
   "outputs": [],
   "source": [
    "import os\n",
    "import random\n",
    "import shutil\n",
    "\n",
    "# Set the seed for reproducibility\n",
    "seed_value = 42\n",
    "random.seed(seed_value)\n",
    "\n",
    "# Set the paths to your original data directory and the destination directory for the split data\n",
    "data_dir = 'data/aizoo/'\n",
    "# Check if val files are in the /train folder\n",
    "aizoo_val_files = \"./data/aizoo-val-items.txt\""
   ]
  },
  {
   "cell_type": "code",
   "execution_count": 2,
   "id": "be2308b2",
   "metadata": {},
   "outputs": [],
   "source": [
    "# Read the file names from the VALIDATION file\n",
    "with open(aizoo_val_files, 'r') as file:\n",
    "    existing_files = [line.strip() for line in file]"
   ]
  },
  {
   "cell_type": "code",
   "execution_count": 3,
   "id": "2cdd0244",
   "metadata": {},
   "outputs": [],
   "source": [
    "# Get the list of file names in the folder\n",
    "folder_files = [os.path.splitext(filename)[0] for filename in os.listdir(data_dir + \"/data/images\") if os.path.isfile(os.path.join(data_dir + \"/data/images\", filename))]\n",
    "assert len(folder_files) == len(set(folder_files))"
   ]
  },
  {
   "cell_type": "code",
   "execution_count": 4,
   "id": "5195aa43",
   "metadata": {},
   "outputs": [],
   "source": [
    "test_files = []\n",
    "\n",
    "for file in folder_files:\n",
    "    for val_file in existing_files:\n",
    "        if file.split(\"_jpg\")[0] == val_file:\n",
    "            test_files.append(file)\n",
    "\n",
    "assert len(test_files) == len(existing_files)\n",
    "assert len(set(test_files)) == len(test_files)"
   ]
  },
  {
   "cell_type": "code",
   "execution_count": 5,
   "id": "472473b0",
   "metadata": {},
   "outputs": [],
   "source": [
    "len(set(folder_files) - set(test_files))\n",
    "train_val_files = list(set(folder_files) - set(test_files))"
   ]
  },
  {
   "cell_type": "code",
   "execution_count": 6,
   "id": "7f75c2ae",
   "metadata": {},
   "outputs": [],
   "source": [
    "validation_percent = 0.1\n",
    "\n",
    "# Shuffle the image files randomly\n",
    "random.shuffle(train_val_files)\n",
    "\n",
    "# Calculate the number of images for each split\n",
    "num_images = len(train_val_files)\n",
    "print(\"# of images:\", num_images)\n",
    "\n",
    "num_validation = int(num_images * validation_percent)\n",
    "\n",
    "# Split the image files into train/validation/test sets\n",
    "train_files = train_val_files[:num_images - num_validation]\n",
    "print(\"Train images:\", len(train_files))\n",
    "validation_files = train_val_files[num_images - num_validation:]\n",
    "print(\"Val images:\", len(validation_files))\n",
    "\n",
    "assert len(train_files) + len(validation_files) == num_images"
   ]
  },
  {
   "cell_type": "code",
   "execution_count": 7,
   "id": "0a37c3ea",
   "metadata": {},
   "outputs": [],
   "source": [
    "# Create the split directories\n",
    "os.makedirs(data_dir, exist_ok=True)\n",
    "os.makedirs(os.path.join(data_dir, 'train'), exist_ok=True)\n",
    "os.makedirs(os.path.join(data_dir, 'valid'), exist_ok=True)\n",
    "os.makedirs(os.path.join(data_dir, 'test'), exist_ok=True)"
   ]
  },
  {
   "cell_type": "code",
   "execution_count": 14,
   "id": "3dec6362",
   "metadata": {},
   "outputs": [],
   "source": [
    "def move_partition(partition, files):\n",
    "    images_dir = data_dir + \"data/images\"\n",
    "    labels_dir = data_dir + \"data/labels\"\n",
    "    \n",
    "    for file_name in files:\n",
    "        file = file_name + \".jpg\"\n",
    "        label = file_name + \".txt\"\n",
    "\n",
    "        partition_images_dir = os.path.join(data_dir, partition, \"images\")\n",
    "        partition_labels_dir = os.path.join(data_dir, partition, \"labels\")\n",
    "        \n",
    "        os.makedirs(partition_images_dir, exist_ok=True)\n",
    "        os.makedirs(partition_labels_dir, exist_ok=True)\n",
    "\n",
    "        # Copy Image\n",
    "        shutil.copy(os.path.join(images_dir, file), os.path.join(partition_images_dir, file))\n",
    "        # Copy label\n",
    "        shutil.copy(os.path.join(labels_dir, label), os.path.join(partition_labels_dir, label))"
   ]
  },
  {
   "cell_type": "code",
   "execution_count": 16,
   "id": "7e498ea9",
   "metadata": {},
   "outputs": [
    {
     "name": "stdout",
     "output_type": "stream",
     "text": [
      "Data split completed successfully.\n"
     ]
    }
   ],
   "source": [
    "move_partition(\"valid\", validation_files)\n",
    "move_partition(\"train\", train_files)\n",
    "move_partition(\"test\", test_files)\n",
    "print('Data split completed successfully.')"
   ]
  },
  {
   "cell_type": "code",
   "execution_count": null,
   "id": "af6e5743",
   "metadata": {},
   "outputs": [],
   "source": []
  }
 ],
 "metadata": {
  "kernelspec": {
   "display_name": "Python 3 (ipykernel)",
   "language": "python",
   "name": "python3"
  },
  "language_info": {
   "codemirror_mode": {
    "name": "ipython",
    "version": 3
   },
   "file_extension": ".py",
   "mimetype": "text/x-python",
   "name": "python",
   "nbconvert_exporter": "python",
   "pygments_lexer": "ipython3",
   "version": "3.8.17"
  }
 },
 "nbformat": 4,
 "nbformat_minor": 5
}
