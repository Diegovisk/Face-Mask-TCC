{
 "cells": [
  {
   "cell_type": "markdown",
   "id": "3b1f7116",
   "metadata": {},
   "source": [
    "# 02. Check AIZOO files and split on train/val/test.\n",
    "\n",
    "The most important part of this dataset is simple: make sure that all the \"val\" data is consistent. Make sure that it is equal to the original dataset. This is how we can compare better/worse results.\n",
    "\n",
    "The data used originally on this project went through Roboflow so we can convert between YOLOs easily. So the below script mainly focuses in the data gathered through the Roboflow conversion. After downloading to the folder, the only other thing that I did was rename \"train\" to \"data\" :)\n",
    "\n",
    "Either way the `.txts` files on the `/data/` dir should be enough for anyone to manually check the dataset consistency."
   ]
  },
  {
   "cell_type": "code",
   "execution_count": 9,
   "id": "45d990ea",
   "metadata": {},
   "outputs": [],
   "source": [
    "# Check if val files are in the /train folder\n",
    "folder_path = \"./data/aizoo/data/labels/\"\n",
    "aizoo_val_files = \"./data/aizoo-val-items.txt\"\n",
    "aizoo_train_files = \"./data/aizoo-train-items.txt\""
   ]
  },
  {
   "cell_type": "code",
   "execution_count": 21,
   "id": "6d765528",
   "metadata": {},
   "outputs": [
    {
     "name": "stdout",
     "output_type": "stream",
     "text": [
      "All is OK with val :)\n"
     ]
    }
   ],
   "source": [
    "import os\n",
    "\n",
    "# Read the file names from the VALIDATION file\n",
    "with open(aizoo_val_files, 'r') as file:\n",
    "    existing_files = [line.strip() for line in file]\n",
    "\n",
    "# Get the list of file names in the folder\n",
    "folder_files = [os.path.splitext(filename)[0] for filename in os.listdir(folder_path) if os.path.isfile(os.path.join(folder_path, filename))]\n",
    "\n",
    "folder_files = [name.split(\"_jpg\")[0] for name in folder_files]\n",
    "\n",
    "# Find the file names not present in the text file\n",
    "missing_files = [file_name for file_name in existing_files if file_name not in folder_files]\n",
    "\n",
    "# Print the missing file names\n",
    "for file_name in missing_files:\n",
    "    print(file_name)\n",
    "\n",
    "if len(missing_files) == 0:\n",
    "    print(\"All is OK with val :)\")"
   ]
  },
  {
   "cell_type": "code",
   "execution_count": 23,
   "id": "61b07874",
   "metadata": {},
   "outputs": [
    {
     "name": "stdout",
     "output_type": "stream",
     "text": [
      "41_Swimming_Swimming_41_184\n",
      "a1\n",
      "a11\n",
      "a12\n",
      "a13\n",
      "a2\n",
      "a3\n",
      "a4\n",
      "a5\n",
      "a6\n",
      "a7\n",
      "a8\n",
      "a9\n"
     ]
    }
   ],
   "source": [
    "import os\n",
    "\n",
    "# Read the file names from the VALIDATION file\n",
    "with open(aizoo_train_files, 'r') as file:\n",
    "    existing_files = [line.strip() for line in file]\n",
    "\n",
    "# Get the list of file names in the folder\n",
    "folder_files = [os.path.splitext(filename)[0] for filename in os.listdir(folder_path) if os.path.isfile(os.path.join(folder_path, filename))]\n",
    "\n",
    "folder_files = [name.split(\"_jpg\")[0] for name in folder_files]\n",
    "\n",
    "# Find the file names not present in the text file\n",
    "missing_files = [file_name for file_name in existing_files if file_name not in folder_files]\n",
    "\n",
    "# Print the missing file names\n",
    "for file_name in missing_files:\n",
    "    print(file_name)\n",
    "\n",
    "if len(missing_files) == 0:\n",
    "    print(\"All is OK with train :)\")"
   ]
  },
  {
   "cell_type": "code",
   "execution_count": null,
   "id": "20203ddb",
   "metadata": {},
   "outputs": [],
   "source": []
  }
 ],
 "metadata": {
  "kernelspec": {
   "display_name": "Python 3 (ipykernel)",
   "language": "python",
   "name": "python3"
  },
  "language_info": {
   "codemirror_mode": {
    "name": "ipython",
    "version": 3
   },
   "file_extension": ".py",
   "mimetype": "text/x-python",
   "name": "python",
   "nbconvert_exporter": "python",
   "pygments_lexer": "ipython3",
   "version": "3.8.17"
  }
 },
 "nbformat": 4,
 "nbformat_minor": 5
}
