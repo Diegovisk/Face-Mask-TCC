{
 "cells": [
  {
   "cell_type": "markdown",
   "id": "fd31a6a4",
   "metadata": {},
   "source": [
    "## 01. Setup and split data from Combined Dataset\n",
    "\n",
    "\n",
    "1. Download dataset from: [https://app.roboflow.com/facemaskdatasetunion/face-mask-combined-dataset/6](https://app.roboflow.com/facemaskdatasetunion/face-mask-combined-dataset/6)\n",
    "2. Unpack folder on `/YoloV8/data/combined/`\n",
    "3. On `/YoloV8/data/combined/` you shoud have: `data.yaml, README.dataset.txt, README.roboflow.txt, train`\n",
    "4. Run this notebook so you can split the train data into val/test"
   ]
  },
  {
   "cell_type": "code",
   "execution_count": 1,
   "id": "acae464a",
   "metadata": {},
   "outputs": [],
   "source": [
    "import os\n",
    "import random\n",
    "import shutil\n",
    "\n",
    "# Set the seed for reproducibility\n",
    "seed_value = 42\n",
    "random.seed(seed_value)\n",
    "\n",
    "# Set the paths to your original data directory and the destination directory for the split data\n",
    "data_dir = 'data/combined/'"
   ]
  },
  {
   "cell_type": "code",
   "execution_count": 2,
   "id": "43ae6dd0",
   "metadata": {},
   "outputs": [],
   "source": [
    "# Rename the folder\n",
    "if not os.path.exists(data_dir + \"/data\"):\n",
    "    os.rename(data_dir + \"/train\", data_dir + \"/data\")"
   ]
  },
  {
   "cell_type": "code",
   "execution_count": 3,
   "id": "ed1fb3e9",
   "metadata": {},
   "outputs": [
    {
     "name": "stdout",
     "output_type": "stream",
     "text": [
      "# of images: 2924\n",
      "Data split completed successfully.\n"
     ]
    }
   ],
   "source": [
    "# Create the split directories\n",
    "os.makedirs(data_dir, exist_ok=True)\n",
    "os.makedirs(os.path.join(data_dir, 'train'), exist_ok=True)\n",
    "os.makedirs(os.path.join(data_dir, 'valid'), exist_ok=True)\n",
    "os.makedirs(os.path.join(data_dir, 'test'), exist_ok=True)\n",
    "\n",
    "images_dir = data_dir + \"/data/images\"\n",
    "labels_dir = data_dir + \"/data/labels\"\n",
    "\n",
    "# Set the train/validation/test split percentages\n",
    "train_percent = 0.7\n",
    "validation_percent = 0.1\n",
    "test_percent = 0.2\n",
    "\n",
    "# Get the list of image files in the data directory\n",
    "image_files = [file for file in os.listdir(images_dir) if file.endswith('.jpg')]\n",
    "\n",
    "# Shuffle the image files randomly\n",
    "random.shuffle(image_files)\n",
    "\n",
    "# Calculate the number of images for each split\n",
    "num_images = len(image_files)\n",
    "print(\"# of images:\", num_images)\n",
    "\n",
    "num_train = int(num_images * train_percent)\n",
    "num_validation = int(num_images * validation_percent)\n",
    "num_test = num_images - num_train - num_validation\n",
    "\n",
    "# Split the image files into train/validation/test sets\n",
    "train_files = image_files[:num_train]\n",
    "validation_files = image_files[num_train:num_train + num_validation]\n",
    "test_files = image_files[num_train + num_validation:]\n",
    "    \n",
    "def move_partition(partition, files):\n",
    "    for file in files:\n",
    "        file_name = os.path.splitext(os.path.basename(file))[0]\n",
    "        label = file_name + \".txt\"\n",
    "\n",
    "        partition_images_dir = os.path.join(data_dir, partition, \"images\")\n",
    "        partition_labels_dir = os.path.join(data_dir, partition, \"labels\")\n",
    "        \n",
    "        os.makedirs(partition_images_dir, exist_ok=True)\n",
    "        os.makedirs(partition_labels_dir, exist_ok=True)\n",
    "\n",
    "        # Copy Image\n",
    "        shutil.copy(os.path.join(images_dir, file), os.path.join(partition_images_dir, file))\n",
    "        # Copy label\n",
    "        shutil.copy(os.path.join(labels_dir, label), os.path.join(partition_labels_dir, label))\n",
    "\n",
    "move_partition(\"train\", train_files)\n",
    "move_partition(\"valid\", validation_files)\n",
    "move_partition(\"test\", test_files)\n",
    "\n",
    "print('Data split completed successfully.')"
   ]
  },
  {
   "cell_type": "markdown",
   "id": "a8705fa9",
   "metadata": {},
   "source": [
    "## Modify the YAML according to our new setup\n",
    "\n",
    "The yaml should already be as below:\n",
    "``` \n",
    "train: ../train/images\n",
    "val: ../valid/images\n",
    "test: ../test/images\n",
    "\n",
    "nc: 2\n",
    "names: ['with_mask', 'without_mask']\n",
    "\n",
    "roboflow:\n",
    "  workspace: facemaskdatasetunion\n",
    "  project: face-mask-combined-dataset\n",
    "  version: 6\n",
    "  license: CC BY 4.0\n",
    "  url: https://universe.roboflow.com/facemaskdatasetunion/face-mask-combined-dataset/dataset/6\n",
    "```"
   ]
  },
  {
   "cell_type": "code",
   "execution_count": null,
   "id": "4045c684",
   "metadata": {},
   "outputs": [],
   "source": []
  }
 ],
 "metadata": {
  "kernelspec": {
   "display_name": "Python 3 (ipykernel)",
   "language": "python",
   "name": "python3"
  },
  "language_info": {
   "codemirror_mode": {
    "name": "ipython",
    "version": 3
   },
   "file_extension": ".py",
   "mimetype": "text/x-python",
   "name": "python",
   "nbconvert_exporter": "python",
   "pygments_lexer": "ipython3",
   "version": "3.8.17"
  }
 },
 "nbformat": 4,
 "nbformat_minor": 5
}
