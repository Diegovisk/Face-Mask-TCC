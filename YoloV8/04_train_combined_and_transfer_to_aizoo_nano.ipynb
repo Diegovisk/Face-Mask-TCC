{
 "cells": [
  {
   "cell_type": "markdown",
   "id": "1ae8387d",
   "metadata": {},
   "source": [
    "## Before running:\n",
    "Make sure that your YOLO `settings.yaml` data paths are all set to \"./\".\n",
    "\n",
    "As of the date of this notebook commit, mine are:\n",
    "```\n",
    "datasets_dir: \"./\"\n",
    "weights_dir: \"./\"\n",
    "runs_dir: \"./\"\n",
    "uuid: [random_hash]\n",
    "sync: true\n",
    "api_key: ''\n",
    "settings_version: 0.0.3\n",
    "```"
   ]
  },
  {
   "cell_type": "markdown",
   "id": "27e905dd",
   "metadata": {},
   "source": [
    "## 1. Setup Ultralytics custom `settings.yaml`"
   ]
  },
  {
   "cell_type": "code",
   "execution_count": 1,
   "id": "d89c85c0",
   "metadata": {},
   "outputs": [
    {
     "name": "stdout",
     "output_type": "stream",
     "text": [
      "All done. settings.yaml path is: /home/diego/projects/Face-Mask-TCC/YoloV8\n"
     ]
    }
   ],
   "source": [
    "from utils import current_dt, setup_yolo_settings_yaml\n",
    "\n",
    "YOLOV8_CONFIG = \"yolov8n.yaml\"\n",
    "YOLOV8_SIZE = \"nano\"\n",
    "\n",
    "setup_yolo_settings_yaml()"
   ]
  },
  {
   "cell_type": "markdown",
   "id": "83a517a2",
   "metadata": {},
   "source": [
    "## 2. Load custom model"
   ]
  },
  {
   "cell_type": "code",
   "execution_count": 2,
   "id": "b8caf449",
   "metadata": {
    "scrolled": true
   },
   "outputs": [
    {
     "name": "stderr",
     "output_type": "stream",
     "text": [
      "\n",
      "                   from  n    params  module                                       arguments                     \n",
      "  0                  -1  1       464  ultralytics.nn.modules.conv.Conv             [3, 16, 3, 2]                 \n",
      "  1                  -1  1      4672  ultralytics.nn.modules.conv.Conv             [16, 32, 3, 2]                \n",
      "  2                  -1  1      7360  ultralytics.nn.modules.block.C2f             [32, 32, 1, True]             \n",
      "  3                  -1  1     18560  ultralytics.nn.modules.conv.Conv             [32, 64, 3, 2]                \n",
      "  4                  -1  2     49664  ultralytics.nn.modules.block.C2f             [64, 64, 2, True]             \n",
      "  5                  -1  1     73984  ultralytics.nn.modules.conv.Conv             [64, 128, 3, 2]               \n",
      "  6                  -1  2    197632  ultralytics.nn.modules.block.C2f             [128, 128, 2, True]           \n",
      "  7                  -1  1    295424  ultralytics.nn.modules.conv.Conv             [128, 256, 3, 2]              \n",
      "  8                  -1  1    460288  ultralytics.nn.modules.block.C2f             [256, 256, 1, True]           \n",
      "  9                  -1  1    164608  ultralytics.nn.modules.block.SPPF            [256, 256, 5]                 \n",
      " 10                  -1  1         0  torch.nn.modules.upsampling.Upsample         [None, 2, 'nearest']          \n",
      " 11             [-1, 6]  1         0  ultralytics.nn.modules.conv.Concat           [1]                           \n",
      " 12                  -1  1    148224  ultralytics.nn.modules.block.C2f             [384, 128, 1]                 \n",
      " 13                  -1  1         0  torch.nn.modules.upsampling.Upsample         [None, 2, 'nearest']          \n",
      " 14             [-1, 4]  1         0  ultralytics.nn.modules.conv.Concat           [1]                           \n",
      " 15                  -1  1     37248  ultralytics.nn.modules.block.C2f             [192, 64, 1]                  \n",
      " 16                  -1  1     36992  ultralytics.nn.modules.conv.Conv             [64, 64, 3, 2]                \n",
      " 17            [-1, 12]  1         0  ultralytics.nn.modules.conv.Concat           [1]                           \n",
      " 18                  -1  1    123648  ultralytics.nn.modules.block.C2f             [192, 128, 1]                 \n",
      " 19                  -1  1    147712  ultralytics.nn.modules.conv.Conv             [128, 128, 3, 2]              \n",
      " 20             [-1, 9]  1         0  ultralytics.nn.modules.conv.Concat           [1]                           \n",
      " 21                  -1  1    493056  ultralytics.nn.modules.block.C2f             [384, 256, 1]                 \n",
      " 22        [15, 18, 21]  1    897664  ultralytics.nn.modules.head.Detect           [80, [64, 128, 256]]          \n",
      "YOLOv8n summary: 225 layers, 3157200 parameters, 3157184 gradients\n",
      "\n"
     ]
    }
   ],
   "source": [
    "from ultralytics import YOLO\n",
    "\n",
    "# Load a model\n",
    "model = YOLO(YOLOV8_CONFIG)  # build a new model from scratch"
   ]
  },
  {
   "cell_type": "markdown",
   "id": "b027643f",
   "metadata": {},
   "source": [
    "# 3. Setup training parameters and train the model for combined dataset"
   ]
  },
  {
   "cell_type": "code",
   "execution_count": 3,
   "id": "f14dd99c",
   "metadata": {},
   "outputs": [
    {
     "name": "stderr",
     "output_type": "stream",
     "text": [
      "Ultralytics YOLOv8.0.124 🚀 Python-3.8.17 torch-2.0.1+cu117 CUDA:0 (GeForce RTX 3060, 12048MiB)\n",
      "\u001b[34m\u001b[1myolo/engine/trainer: \u001b[0mtask=detect, mode=train, model=yolov8n.yaml, data=./data/combined/data.yaml, epochs=1, patience=50, batch=18, imgsz=640, save=True, save_period=-1, cache=False, device=None, workers=8, project=./artifacts/nano/combined, name=03-07-2023_06:35:56, exist_ok=True, pretrained=True, optimizer=auto, verbose=True, seed=42, deterministic=True, single_cls=False, rect=False, cos_lr=False, close_mosaic=0, resume=False, amp=True, fraction=1.0, profile=False, overlap_mask=True, mask_ratio=4, dropout=0.0, val=True, split=val, save_json=False, save_hybrid=False, conf=None, iou=0.7, max_det=300, half=False, dnn=False, plots=True, source=None, show=False, save_txt=False, save_conf=False, save_crop=False, show_labels=True, show_conf=True, vid_stride=1, line_width=None, visualize=False, augment=False, agnostic_nms=False, classes=None, retina_masks=False, boxes=True, format=torchscript, keras=False, optimize=False, int8=False, dynamic=False, simplify=False, opset=None, workspace=4, nms=False, lr0=0.01, lrf=0.01, momentum=0.937, weight_decay=0.0005, warmup_epochs=3.0, warmup_momentum=0.8, warmup_bias_lr=0.1, box=7.5, cls=0.5, dfl=1.5, pose=12.0, kobj=1.0, label_smoothing=0.0, nbs=64, hsv_h=0.015, hsv_s=0.7, hsv_v=0.4, degrees=0.0, translate=0.1, scale=0.5, shear=0.0, perspective=0.0, flipud=0.0, fliplr=0.5, mosaic=1.0, mixup=0.0, copy_paste=0.0, cfg=None, v5loader=False, tracker=botsort.yaml, save_dir=artifacts/nano/combined/03-07-2023_06:35:56\n",
      "Overriding model.yaml nc=80 with nc=2\n",
      "\n",
      "                   from  n    params  module                                       arguments                     \n",
      "  0                  -1  1       464  ultralytics.nn.modules.conv.Conv             [3, 16, 3, 2]                 \n",
      "  1                  -1  1      4672  ultralytics.nn.modules.conv.Conv             [16, 32, 3, 2]                \n",
      "  2                  -1  1      7360  ultralytics.nn.modules.block.C2f             [32, 32, 1, True]             \n",
      "  3                  -1  1     18560  ultralytics.nn.modules.conv.Conv             [32, 64, 3, 2]                \n",
      "  4                  -1  2     49664  ultralytics.nn.modules.block.C2f             [64, 64, 2, True]             \n",
      "  5                  -1  1     73984  ultralytics.nn.modules.conv.Conv             [64, 128, 3, 2]               \n",
      "  6                  -1  2    197632  ultralytics.nn.modules.block.C2f             [128, 128, 2, True]           \n",
      "  7                  -1  1    295424  ultralytics.nn.modules.conv.Conv             [128, 256, 3, 2]              \n",
      "  8                  -1  1    460288  ultralytics.nn.modules.block.C2f             [256, 256, 1, True]           \n",
      "  9                  -1  1    164608  ultralytics.nn.modules.block.SPPF            [256, 256, 5]                 \n",
      " 10                  -1  1         0  torch.nn.modules.upsampling.Upsample         [None, 2, 'nearest']          \n",
      " 11             [-1, 6]  1         0  ultralytics.nn.modules.conv.Concat           [1]                           \n",
      " 12                  -1  1    148224  ultralytics.nn.modules.block.C2f             [384, 128, 1]                 \n",
      " 13                  -1  1         0  torch.nn.modules.upsampling.Upsample         [None, 2, 'nearest']          \n",
      " 14             [-1, 4]  1         0  ultralytics.nn.modules.conv.Concat           [1]                           \n",
      " 15                  -1  1     37248  ultralytics.nn.modules.block.C2f             [192, 64, 1]                  \n",
      " 16                  -1  1     36992  ultralytics.nn.modules.conv.Conv             [64, 64, 3, 2]                \n",
      " 17            [-1, 12]  1         0  ultralytics.nn.modules.conv.Concat           [1]                           \n",
      " 18                  -1  1    123648  ultralytics.nn.modules.block.C2f             [192, 128, 1]                 \n",
      " 19                  -1  1    147712  ultralytics.nn.modules.conv.Conv             [128, 128, 3, 2]              \n",
      " 20             [-1, 9]  1         0  ultralytics.nn.modules.conv.Concat           [1]                           \n",
      " 21                  -1  1    493056  ultralytics.nn.modules.block.C2f             [384, 256, 1]                 \n",
      " 22        [15, 18, 21]  1    751702  ultralytics.nn.modules.head.Detect           [2, [64, 128, 256]]           \n",
      "YOLOv8n summary: 225 layers, 3011238 parameters, 3011222 gradients\n",
      "\n",
      "\u001b[34m\u001b[1mAMP: \u001b[0mrunning Automatic Mixed Precision (AMP) checks with YOLOv8n...\n",
      "\u001b[34m\u001b[1mAMP: \u001b[0mchecks passed ✅\n",
      "\u001b[34m\u001b[1mtrain: \u001b[0mScanning /home/diego/projects/Face-Mask-TCC/YoloV8/data/combined/train/labels.cache... 2046 images, 18 ba\u001b[0m\n",
      "\u001b[34m\u001b[1mval: \u001b[0mScanning /home/diego/projects/Face-Mask-TCC/YoloV8/data/combined/valid/labels.cache... 292 images, 0 backgr\u001b[0m\n",
      "Plotting labels to artifacts/nano/combined/03-07-2023_06:35:56/labels.jpg... \n",
      "\u001b[34m\u001b[1moptimizer:\u001b[0m AdamW(lr=0.001667, momentum=0.9) with parameter groups 57 weight(decay=0.0), 64 weight(decay=0.0005625000000000001), 63 bias(decay=0.0)\n",
      "Image sizes 640 train, 640 val\n",
      "Using 6 dataloader workers\n",
      "Logging results to \u001b[1martifacts/nano/combined/03-07-2023_06:35:56\u001b[0m\n",
      "Starting training for 1 epochs...\n",
      "\n",
      "      Epoch    GPU_mem   box_loss   cls_loss   dfl_loss  Instances       Size\n",
      "        1/1      2.64G      3.374      4.092      3.836         47        640: 100%|██████████| 114/114 [00:14<0\n",
      "                 Class     Images  Instances      Box(P          R      mAP50  mAP50-95): 100%|██████████| 9/9 [\n",
      "                   all        292       1109    0.00165      0.155     0.0115    0.00561\n",
      "\n",
      "1 epochs completed in 0.005 hours.\n",
      "Optimizer stripped from artifacts/nano/combined/03-07-2023_06:35:56/weights/last.pt, 6.2MB\n",
      "Optimizer stripped from artifacts/nano/combined/03-07-2023_06:35:56/weights/best.pt, 6.2MB\n",
      "\n",
      "Validating artifacts/nano/combined/03-07-2023_06:35:56/weights/best.pt...\n",
      "Ultralytics YOLOv8.0.124 🚀 Python-3.8.17 torch-2.0.1+cu117 CUDA:0 (GeForce RTX 3060, 12048MiB)\n",
      "YOLOv8n summary (fused): 168 layers, 3006038 parameters, 0 gradients\n",
      "                 Class     Images  Instances      Box(P          R      mAP50  mAP50-95): 100%|██████████| 9/9 [\n",
      "                   all        292       1109    0.00165      0.155     0.0113    0.00546\n",
      "             with_mask        292        837    0.00124      0.086   0.000805   0.000291\n",
      "          without_mask        292        272    0.00205      0.224     0.0218     0.0106\n",
      "Speed: 0.8ms preprocess, 1.4ms inference, 0.0ms loss, 1.3ms postprocess per image\n",
      "Results saved to \u001b[1martifacts/nano/combined/03-07-2023_06:35:56\u001b[0m\n"
     ]
    }
   ],
   "source": [
    "COMBINED_DATASET = \"./data/combined/data.yaml\"\n",
    "EPOCHS = 1500\n",
    "BATCH_SIZE = 18\n",
    "COMBINED_SAVE_FOLDER = f\"./artifacts/{YOLOV8_SIZE}/combined\"\n",
    "INSTANCE_NAME = current_dt()\n",
    "\n",
    "model.train(\n",
    "    data=COMBINED_DATASET, \n",
    "    epochs=EPOCHS, \n",
    "    seed=42, \n",
    "    batch=BATCH_SIZE, \n",
    "    verbose=True, \n",
    "    exist_ok=True,\n",
    "    project=COMBINED_SAVE_FOLDER,\n",
    "    name=INSTANCE_NAME\n",
    ")"
   ]
  },
  {
   "cell_type": "markdown",
   "id": "a80f2878",
   "metadata": {},
   "source": [
    "# 4. Setup training parameters and train the model for AIZOO dataset\n",
    "with pre-trained weights from previous train."
   ]
  },
  {
   "cell_type": "code",
   "execution_count": 4,
   "id": "ad8cea4d",
   "metadata": {},
   "outputs": [
    {
     "name": "stderr",
     "output_type": "stream",
     "text": [
      "\n",
      "                   from  n    params  module                                       arguments                     \n",
      "  0                  -1  1       464  ultralytics.nn.modules.conv.Conv             [3, 16, 3, 2]                 \n",
      "  1                  -1  1      4672  ultralytics.nn.modules.conv.Conv             [16, 32, 3, 2]                \n",
      "  2                  -1  1      7360  ultralytics.nn.modules.block.C2f             [32, 32, 1, True]             \n",
      "  3                  -1  1     18560  ultralytics.nn.modules.conv.Conv             [32, 64, 3, 2]                \n",
      "  4                  -1  2     49664  ultralytics.nn.modules.block.C2f             [64, 64, 2, True]             \n",
      "  5                  -1  1     73984  ultralytics.nn.modules.conv.Conv             [64, 128, 3, 2]               \n",
      "  6                  -1  2    197632  ultralytics.nn.modules.block.C2f             [128, 128, 2, True]           \n",
      "  7                  -1  1    295424  ultralytics.nn.modules.conv.Conv             [128, 256, 3, 2]              \n",
      "  8                  -1  1    460288  ultralytics.nn.modules.block.C2f             [256, 256, 1, True]           \n",
      "  9                  -1  1    164608  ultralytics.nn.modules.block.SPPF            [256, 256, 5]                 \n",
      " 10                  -1  1         0  torch.nn.modules.upsampling.Upsample         [None, 2, 'nearest']          \n",
      " 11             [-1, 6]  1         0  ultralytics.nn.modules.conv.Concat           [1]                           \n",
      " 12                  -1  1    148224  ultralytics.nn.modules.block.C2f             [384, 128, 1]                 \n",
      " 13                  -1  1         0  torch.nn.modules.upsampling.Upsample         [None, 2, 'nearest']          \n",
      " 14             [-1, 4]  1         0  ultralytics.nn.modules.conv.Concat           [1]                           \n",
      " 15                  -1  1     37248  ultralytics.nn.modules.block.C2f             [192, 64, 1]                  \n",
      " 16                  -1  1     36992  ultralytics.nn.modules.conv.Conv             [64, 64, 3, 2]                \n",
      " 17            [-1, 12]  1         0  ultralytics.nn.modules.conv.Concat           [1]                           \n",
      " 18                  -1  1    123648  ultralytics.nn.modules.block.C2f             [192, 128, 1]                 \n",
      " 19                  -1  1    147712  ultralytics.nn.modules.conv.Conv             [128, 128, 3, 2]              \n",
      " 20             [-1, 9]  1         0  ultralytics.nn.modules.conv.Concat           [1]                           \n",
      " 21                  -1  1    493056  ultralytics.nn.modules.block.C2f             [384, 256, 1]                 \n",
      " 22        [15, 18, 21]  1    897664  ultralytics.nn.modules.head.Detect           [80, [64, 128, 256]]          \n",
      "YOLOv8n summary: 225 layers, 3157200 parameters, 3157184 gradients\n",
      "\n",
      "Transferred 319/355 items from pretrained weights\n"
     ]
    }
   ],
   "source": [
    "import os\n",
    "\n",
    "# Load pretrained\n",
    "model = YOLO(YOLOV8_CONFIG).load(os.path.join(COMBINED_SAVE_FOLDER, INSTANCE_NAME, \"weights/best.pt\"))"
   ]
  },
  {
   "cell_type": "code",
   "execution_count": 5,
   "id": "8afaf903",
   "metadata": {},
   "outputs": [
    {
     "name": "stderr",
     "output_type": "stream",
     "text": [
      "Ultralytics YOLOv8.0.124 🚀 Python-3.8.17 torch-2.0.1+cu117 CUDA:0 (GeForce RTX 3060, 12048MiB)\n",
      "\u001b[34m\u001b[1myolo/engine/trainer: \u001b[0mtask=detect, mode=train, model=yolov8n.yaml, data=./data/aizoo/data.yaml, epochs=1, patience=50, batch=18, imgsz=640, save=True, save_period=-1, cache=False, device=None, workers=8, project=./artifacts/nano/aizoo, name=03-07-2023_06:35:56, exist_ok=True, pretrained=True, optimizer=auto, verbose=True, seed=42, deterministic=True, single_cls=False, rect=False, cos_lr=False, close_mosaic=0, resume=False, amp=True, fraction=1.0, profile=False, overlap_mask=True, mask_ratio=4, dropout=0.0, val=True, split=val, save_json=False, save_hybrid=False, conf=None, iou=0.7, max_det=300, half=False, dnn=False, plots=True, source=None, show=False, save_txt=False, save_conf=False, save_crop=False, show_labels=True, show_conf=True, vid_stride=1, line_width=None, visualize=False, augment=False, agnostic_nms=False, classes=None, retina_masks=False, boxes=True, format=torchscript, keras=False, optimize=False, int8=False, dynamic=False, simplify=False, opset=None, workspace=4, nms=False, lr0=0.01, lrf=0.01, momentum=0.937, weight_decay=0.0005, warmup_epochs=3.0, warmup_momentum=0.8, warmup_bias_lr=0.1, box=7.5, cls=0.5, dfl=1.5, pose=12.0, kobj=1.0, label_smoothing=0.0, nbs=64, hsv_h=0.015, hsv_s=0.7, hsv_v=0.4, degrees=0.0, translate=0.1, scale=0.5, shear=0.0, perspective=0.0, flipud=0.0, fliplr=0.5, mosaic=1.0, mixup=0.0, copy_paste=0.0, cfg=None, v5loader=False, tracker=botsort.yaml, save_dir=artifacts/nano/aizoo/03-07-2023_06:35:56\n",
      "Overriding model.yaml nc=80 with nc=2\n",
      "\n",
      "                   from  n    params  module                                       arguments                     \n",
      "  0                  -1  1       464  ultralytics.nn.modules.conv.Conv             [3, 16, 3, 2]                 \n",
      "  1                  -1  1      4672  ultralytics.nn.modules.conv.Conv             [16, 32, 3, 2]                \n",
      "  2                  -1  1      7360  ultralytics.nn.modules.block.C2f             [32, 32, 1, True]             \n",
      "  3                  -1  1     18560  ultralytics.nn.modules.conv.Conv             [32, 64, 3, 2]                \n",
      "  4                  -1  2     49664  ultralytics.nn.modules.block.C2f             [64, 64, 2, True]             \n",
      "  5                  -1  1     73984  ultralytics.nn.modules.conv.Conv             [64, 128, 3, 2]               \n",
      "  6                  -1  2    197632  ultralytics.nn.modules.block.C2f             [128, 128, 2, True]           \n",
      "  7                  -1  1    295424  ultralytics.nn.modules.conv.Conv             [128, 256, 3, 2]              \n",
      "  8                  -1  1    460288  ultralytics.nn.modules.block.C2f             [256, 256, 1, True]           \n",
      "  9                  -1  1    164608  ultralytics.nn.modules.block.SPPF            [256, 256, 5]                 \n",
      " 10                  -1  1         0  torch.nn.modules.upsampling.Upsample         [None, 2, 'nearest']          \n",
      " 11             [-1, 6]  1         0  ultralytics.nn.modules.conv.Concat           [1]                           \n",
      " 12                  -1  1    148224  ultralytics.nn.modules.block.C2f             [384, 128, 1]                 \n",
      " 13                  -1  1         0  torch.nn.modules.upsampling.Upsample         [None, 2, 'nearest']          \n",
      " 14             [-1, 4]  1         0  ultralytics.nn.modules.conv.Concat           [1]                           \n",
      " 15                  -1  1     37248  ultralytics.nn.modules.block.C2f             [192, 64, 1]                  \n",
      " 16                  -1  1     36992  ultralytics.nn.modules.conv.Conv             [64, 64, 3, 2]                \n",
      " 17            [-1, 12]  1         0  ultralytics.nn.modules.conv.Concat           [1]                           \n",
      " 18                  -1  1    123648  ultralytics.nn.modules.block.C2f             [192, 128, 1]                 \n",
      " 19                  -1  1    147712  ultralytics.nn.modules.conv.Conv             [128, 128, 3, 2]              \n",
      " 20             [-1, 9]  1         0  ultralytics.nn.modules.conv.Concat           [1]                           \n",
      " 21                  -1  1    493056  ultralytics.nn.modules.block.C2f             [384, 256, 1]                 \n",
      " 22        [15, 18, 21]  1    751702  ultralytics.nn.modules.head.Detect           [2, [64, 128, 256]]           \n",
      "YOLOv8n summary: 225 layers, 3011238 parameters, 3011222 gradients\n",
      "\n",
      "Transferred 319/355 items from pretrained weights\n",
      "\u001b[34m\u001b[1mAMP: \u001b[0mrunning Automatic Mixed Precision (AMP) checks with YOLOv8n...\n",
      "\u001b[34m\u001b[1mAMP: \u001b[0mchecks passed ✅\n",
      "\u001b[34m\u001b[1mtrain: \u001b[0mScanning /home/diego/projects/Face-Mask-TCC/YoloV8/data/aizoo/train/labels.cache... 5518 images, 33 backg\u001b[0m\n",
      "\u001b[34m\u001b[1mval: \u001b[0mScanning /home/diego/projects/Face-Mask-TCC/YoloV8/data/aizoo/valid/labels.cache... 613 images, 7 backgroun\u001b[0m\n",
      "Plotting labels to artifacts/nano/aizoo/03-07-2023_06:35:56/labels.jpg... \n",
      "\u001b[34m\u001b[1moptimizer:\u001b[0m AdamW(lr=0.001667, momentum=0.9) with parameter groups 57 weight(decay=0.0), 64 weight(decay=0.0005625000000000001), 63 bias(decay=0.0)\n",
      "Image sizes 640 train, 640 val\n",
      "Using 6 dataloader workers\n",
      "Logging results to \u001b[1martifacts/nano/aizoo/03-07-2023_06:35:56\u001b[0m\n",
      "Starting training for 1 epochs...\n",
      "\n",
      "      Epoch    GPU_mem   box_loss   cls_loss   dfl_loss  Instances       Size\n",
      "        1/1      3.62G      2.598        3.4      2.897         25        640: 100%|██████████| 307/307 [00:37<0\n",
      "                 Class     Images  Instances      Box(P          R      mAP50  mAP50-95): 100%|██████████| 18/18\n",
      "                   all        613       1402       0.55      0.391      0.394      0.193\n",
      "\n",
      "1 epochs completed in 0.012 hours.\n",
      "Optimizer stripped from artifacts/nano/aizoo/03-07-2023_06:35:56/weights/last.pt, 6.2MB\n",
      "Optimizer stripped from artifacts/nano/aizoo/03-07-2023_06:35:56/weights/best.pt, 6.2MB\n",
      "\n",
      "Validating artifacts/nano/aizoo/03-07-2023_06:35:56/weights/best.pt...\n",
      "Ultralytics YOLOv8.0.124 🚀 Python-3.8.17 torch-2.0.1+cu117 CUDA:0 (GeForce RTX 3060, 12048MiB)\n",
      "YOLOv8n summary (fused): 168 layers, 3006038 parameters, 0 gradients\n",
      "                 Class     Images  Instances      Box(P          R      mAP50  mAP50-95): 100%|██████████| 18/18\n",
      "                   all        613       1402       0.55      0.391      0.394      0.194\n",
      "             with_mask        613        248      0.519      0.472      0.457      0.239\n",
      "          without_mask        613       1154      0.581      0.309       0.33      0.149\n",
      "Speed: 0.4ms preprocess, 1.2ms inference, 0.0ms loss, 2.7ms postprocess per image\n",
      "Results saved to \u001b[1martifacts/nano/aizoo/03-07-2023_06:35:56\u001b[0m\n"
     ]
    }
   ],
   "source": [
    "AIZOO_DATASET = \"./data/aizoo/data.yaml\"\n",
    "EPOCHS = 1500\n",
    "BATCH_SIZE = 16\n",
    "AIZOO_SAVE_FOLDER = f\"./artifacts/{YOLOV8_SIZE}/aizoo\"\n",
    "# Re-use instance name for trackability!\n",
    "\n",
    "model.train(\n",
    "    data=AIZOO_DATASET,\n",
    "    epochs=EPOCHS, \n",
    "    seed=42, \n",
    "    batch=BATCH_SIZE, \n",
    "    verbose=True, \n",
    "    exist_ok=True,\n",
    "    project=AIZOO_SAVE_FOLDER,\n",
    "    name=INSTANCE_NAME\n",
    ")"
   ]
  },
  {
   "cell_type": "code",
   "execution_count": 6,
   "id": "e054248e",
   "metadata": {},
   "outputs": [
    {
     "name": "stderr",
     "output_type": "stream",
     "text": [
      "Ultralytics YOLOv8.0.124 🚀 Python-3.8.17 torch-2.0.1+cu117 CUDA:0 (GeForce RTX 3060, 12048MiB)\n",
      "YOLOv8n summary (fused): 168 layers, 3006038 parameters, 0 gradients\n",
      "\u001b[34m\u001b[1mval: \u001b[0mScanning /home/diego/projects/Face-Mask-TCC/YoloV8/data/aizoo/test/labels.cache... 1839 images, 12 backgrou\u001b[0m\n",
      "                 Class     Images  Instances      Box(P          R      mAP50  mAP50-95): 100%|██████████| 103/1\n",
      "                   all       1839       3044      0.577      0.482      0.503      0.244\n",
      "             with_mask       1839       1033      0.588      0.476      0.513      0.254\n",
      "          without_mask       1839       2011      0.567      0.488      0.492      0.233\n",
      "Speed: 0.3ms preprocess, 2.6ms inference, 0.0ms loss, 0.9ms postprocess per image\n",
      "Saving artifacts/nano/aizoo/03-07-2023_06:35:56/predictions.json...\n",
      "Results saved to \u001b[1martifacts/nano/aizoo/03-07-2023_06:35:56\u001b[0m\n"
     ]
    }
   ],
   "source": [
    "metrics = model.val(split=\"test\", save_json=True)"
   ]
  }
 ],
 "metadata": {
  "kernelspec": {
   "display_name": "Python 3 (ipykernel)",
   "language": "python",
   "name": "python3"
  },
  "language_info": {
   "codemirror_mode": {
    "name": "ipython",
    "version": 3
   },
   "file_extension": ".py",
   "mimetype": "text/x-python",
   "name": "python",
   "nbconvert_exporter": "python",
   "pygments_lexer": "ipython3",
   "version": "3.8.17"
  }
 },
 "nbformat": 4,
 "nbformat_minor": 5
}
